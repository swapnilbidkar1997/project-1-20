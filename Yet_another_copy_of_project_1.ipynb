{
  "nbformat": 4,
  "nbformat_minor": 0,
  "metadata": {
    "colab": {
      "provenance": []
    },
    "kernelspec": {
      "name": "python3",
      "display_name": "Python 3"
    },
    "language_info": {
      "name": "python"
    }
  },
  "cells": [
    {
      "cell_type": "code",
      "source": [
        "reinitilization existing git repository in colab"
      ],
      "metadata": {
        "id": "_GBs0QlXNs-0"
      },
      "execution_count": null,
      "outputs": []
    },
    {
      "cell_type": "markdown",
      "source": [
        "Q1. explain the key feature of python that make it a popular choice for programing.\n",
        "1. readability and simplicity\n",
        "python places a strong emphasis on clean, readable code. its syntax is designed to be highly readable, with minimal use of brackets and a clear layout using indentation and whitespace. by relying on indentation to define code bloacks, python enables developers to  write code thatis not only easy to write but also easy to read and understand.\n",
        "2. extensive standard library\n",
        "python comeswith with an extensive standard library, which is a collection of modules and packages that offer a wide range of functionalities. these modules and packages help simplify complex tasks by providing pre-built functionalities,saving developers time and effort.\n",
        "3. cross-platform compatibility\n",
        "python's cross-platform compatibility allows it to run seamlessly on different operating systems such as windows, macos and linus. developers can write their code once and deploy it on multiple platforms, saving time and effort in application development.\n",
        "4.dynamic typing and dynamic binding\n",
        "python is a dynamically-typed language, which means that the type of a variable is determined at runtime. unlike statically-typed languages, such as c++ or java. python does not require explicit type declarations. this dynamic typing feature results in gaster development time and increases code flexibility.\n",
        "5. strong community support python enjoys a vibrant and supportive community of developers worldwode. this commnity provides various resources, including forums, online comunities, and open-source projes=cts. the python community\n"
      ],
      "metadata": {
        "id": "6yks-Q_1Ko4_"
      }
    },
    {
      "cell_type": "markdown",
      "source": [
        "Q2. describe the role of predefined key word in python and provide example of  how they are used in a program.\n",
        "\n",
        "ans:-\n",
        "python keywords are some predefined and reserved words in python that have special meaning . keywords are used to define the syntax of the coding. the keyword cannot be used as an identifier, functionm or variable name. all the keywords in python are written in lowercase except true and false.\n",
        "\n"
      ],
      "metadata": {
        "id": "rlA_GMOuaA-E"
      }
    },
    {
      "cell_type": "markdown",
      "source": [],
      "metadata": {
        "id": "CPv0t5GEcawa"
      }
    },
    {
      "cell_type": "markdown",
      "source": [
        "Example 1.\n",
        "if = this is used to make a conditional statement.\n"
      ],
      "metadata": {
        "id": "udIBpT92cg7j"
      }
    },
    {
      "cell_type": "code",
      "source": [
        "if 5>2:\n",
        "    print(\"FIVE GREATER THAN TWO\")"
      ],
      "metadata": {
        "id": "88heyUcQJVrv"
      },
      "execution_count": null,
      "outputs": []
    },
    {
      "cell_type": "markdown",
      "source": [
        "Example 2.\n",
        "for= this is used to create a loop.\n",
        "\n"
      ],
      "metadata": {
        "id": "AEvDAPLFc-vP"
      }
    },
    {
      "cell_type": "code",
      "source": [
        "for x in range(5):\n",
        "    print(x)"
      ],
      "metadata": {
        "id": "UKoKQXq9dL-2"
      },
      "execution_count": null,
      "outputs": []
    },
    {
      "cell_type": "markdown",
      "source": [
        "Example 3.\n",
        "or = this is also a logical operator which returns true if anyone operand is true else retruns false."
      ],
      "metadata": {
        "id": "UDLi4QgVdUEQ"
      }
    },
    {
      "cell_type": "code",
      "source": [
        "a = 200\n",
        "b = 33\n",
        "print (a>b or b>a)"
      ],
      "metadata": {
        "id": "GasiN6p7dnSO"
      },
      "execution_count": null,
      "outputs": []
    },
    {
      "cell_type": "markdown",
      "source": [
        "Example 4.\n",
        "not = this is again a logical operator it returns true if the operan is false else returns false.\n"
      ],
      "metadata": {
        "id": "HPyffIKgdwLl"
      }
    },
    {
      "cell_type": "code",
      "source": [
        "a = int (200)\n",
        "b =  int(33)\n",
        "c = a+b\n",
        "print (\"a+b\",not c)\n"
      ],
      "metadata": {
        "colab": {
          "base_uri": "https://localhost:8080/"
        },
        "id": "sWDT8852eJp6",
        "outputId": "71750a57-df38-4c61-f7fd-9dcd1952e431"
      },
      "execution_count": null,
      "outputs": [
        {
          "output_type": "stream",
          "name": "stdout",
          "text": [
            "a+b False\n"
          ]
        }
      ]
    },
    {
      "cell_type": "code",
      "source": [],
      "metadata": {
        "id": "j5Q5Ay_llTR7"
      },
      "execution_count": null,
      "outputs": []
    },
    {
      "cell_type": "markdown",
      "source": [
        "Q3. compare contrast mutable and immutable objects in python with examples.\n",
        "\n",
        "A.  mutable objects :-                          \n",
        " 1) the objects can be modified after the creation as well.  \n",
        "\n",
        "2) classes that are mutable are not considered final .\n",
        "\n",
        "3)thread unsafe.\n",
        "\n",
        "4)classes are not made final for the mutalbe objects.\n",
        "\n",
        "5)Examples:- lists,dicts,sets,etc.\n"
      ],
      "metadata": {
        "id": "O7PDan5te6iy"
      }
    },
    {
      "cell_type": "markdown",
      "source": [
        "LISTS"
      ],
      "metadata": {
        "id": "8zpqGszGhxSV"
      }
    },
    {
      "cell_type": "code",
      "source": [
        "list = [1,2,3,4,5]\n",
        "print(list)\n",
        "list [3]= 8\n",
        "print(list)\n"
      ],
      "metadata": {
        "id": "AP9EDoxseDVH",
        "colab": {
          "base_uri": "https://localhost:8080/"
        },
        "outputId": "fc0dbc5c-a189-4eb4-b8f0-d2fbddf33962"
      },
      "execution_count": null,
      "outputs": [
        {
          "output_type": "stream",
          "name": "stdout",
          "text": [
            "[1, 2, 3, 4, 5]\n",
            "[1, 2, 3, 8, 5]\n"
          ]
        }
      ]
    },
    {
      "cell_type": "markdown",
      "source": [
        "DICTS\n"
      ],
      "metadata": {
        "id": "cKEuY94xlEqQ"
      }
    },
    {
      "cell_type": "code",
      "source": [
        "employee = {\"name\" : 'vikram','age':25,'department':'it'}\n",
        "employee['department'] = 'HR'\n",
        "print(employee)"
      ],
      "metadata": {
        "colab": {
          "base_uri": "https://localhost:8080/"
        },
        "id": "-uG6xJx3kXmp",
        "outputId": "b5eb9dcf-66a7-4855-9096-3c75f0f98331"
      },
      "execution_count": null,
      "outputs": [
        {
          "output_type": "stream",
          "name": "stdout",
          "text": [
            "{'name': 'vikram', 'age': 25, 'department': 'HR'}\n"
          ]
        }
      ]
    },
    {
      "cell_type": "markdown",
      "source": [
        "SETS\n"
      ],
      "metadata": {
        "id": "15uVHRsCn2Yy"
      }
    },
    {
      "cell_type": "code",
      "source": [
        "set = {'vikram','anshul','amit','suresh'}\n",
        "print(set)"
      ],
      "metadata": {
        "colab": {
          "base_uri": "https://localhost:8080/"
        },
        "id": "a9tQUa-XoIYw",
        "outputId": "927949a3-2a4c-475f-a066-85c0a9f5d723"
      },
      "execution_count": null,
      "outputs": [
        {
          "output_type": "stream",
          "name": "stdout",
          "text": [
            "{'amit', 'anshul', 'vikram', 'suresh'}\n"
          ]
        }
      ]
    },
    {
      "cell_type": "code",
      "source": [
        "set = {'vikram','anshul','amit','suresh'}\n",
        "set.add('rahul')\n",
        "print(set)"
      ],
      "metadata": {
        "colab": {
          "base_uri": "https://localhost:8080/"
        },
        "id": "uOISM_hhpdIf",
        "outputId": "951c78ed-f12e-4acb-d04c-1a8ca0b0857e"
      },
      "execution_count": null,
      "outputs": [
        {
          "output_type": "stream",
          "name": "stdout",
          "text": [
            "{'anshul', 'amit', 'vikram', 'rahul', 'suresh'}\n"
          ]
        }
      ]
    },
    {
      "cell_type": "code",
      "source": [
        "set = {'vikram','anshul','amit','suresh'}\n",
        "set.remove('anshul')\n",
        "print(set)"
      ],
      "metadata": {
        "colab": {
          "base_uri": "https://localhost:8080/"
        },
        "id": "Rj583dGopmCu",
        "outputId": "0544559b-33ca-4251-9f86-a3aba72999a0"
      },
      "execution_count": null,
      "outputs": [
        {
          "output_type": "stream",
          "name": "stdout",
          "text": [
            "{'amit', 'vikram', 'suresh'}\n"
          ]
        }
      ]
    },
    {
      "cell_type": "code",
      "source": [
        "set.update([\"ankit\", \"dipak\"])\n",
        "print(set)"
      ],
      "metadata": {
        "colab": {
          "base_uri": "https://localhost:8080/"
        },
        "id": "Z4qszmFOprgQ",
        "outputId": "91649414-07d1-408c-c6de-22d07330ac14"
      },
      "execution_count": null,
      "outputs": [
        {
          "output_type": "stream",
          "name": "stdout",
          "text": [
            "{'ankit', 'amit', 'vikram', 'dipak', 'suresh'}\n"
          ]
        }
      ]
    },
    {
      "cell_type": "markdown",
      "source": [
        "Q3. B) immutable object:-\n",
        "\n",
        "1)objects can not be modified after the creation of the objects.\n",
        "\n",
        "2)classes that are immutable are considered final.\n",
        "\n",
        "3)thread-safe.\n",
        "\n",
        "4) classes are made final for the immutable objects.\n",
        "\n",
        "5)Examples:- tuple, string,int.  \n"
      ],
      "metadata": {
        "id": "gfUxI4AkqPSC"
      }
    },
    {
      "cell_type": "markdown",
      "source": [
        "TUPLE\n",
        "\n"
      ],
      "metadata": {
        "id": "oOMepL-ygkMJ"
      }
    },
    {
      "cell_type": "code",
      "source": [
        "tuple = (1,2,3,4,5)\n",
        "tuple [2]= 8\n",
        "print(tuple)"
      ],
      "metadata": {
        "colab": {
          "base_uri": "https://localhost:8080/",
          "height": 176
        },
        "id": "ls0zyFDYiNBh",
        "outputId": "5d1e33a2-a917-4ced-9d0e-4fb86460f532"
      },
      "execution_count": null,
      "outputs": [
        {
          "output_type": "error",
          "ename": "TypeError",
          "evalue": "'tuple' object does not support item assignment",
          "traceback": [
            "\u001b[0;31m---------------------------------------------------------------------------\u001b[0m",
            "\u001b[0;31mTypeError\u001b[0m                                 Traceback (most recent call last)",
            "\u001b[0;32m<ipython-input-4-de695347741c>\u001b[0m in \u001b[0;36m<cell line: 2>\u001b[0;34m()\u001b[0m\n\u001b[1;32m      1\u001b[0m \u001b[0mtuple\u001b[0m \u001b[0;34m=\u001b[0m \u001b[0;34m(\u001b[0m\u001b[0;36m1\u001b[0m\u001b[0;34m,\u001b[0m\u001b[0;36m2\u001b[0m\u001b[0;34m,\u001b[0m\u001b[0;36m3\u001b[0m\u001b[0;34m,\u001b[0m\u001b[0;36m4\u001b[0m\u001b[0;34m,\u001b[0m\u001b[0;36m5\u001b[0m\u001b[0;34m)\u001b[0m\u001b[0;34m\u001b[0m\u001b[0;34m\u001b[0m\u001b[0m\n\u001b[0;32m----> 2\u001b[0;31m \u001b[0mtuple\u001b[0m \u001b[0;34m[\u001b[0m\u001b[0;36m2\u001b[0m\u001b[0;34m]\u001b[0m\u001b[0;34m=\u001b[0m \u001b[0;36m8\u001b[0m\u001b[0;34m\u001b[0m\u001b[0;34m\u001b[0m\u001b[0m\n\u001b[0m\u001b[1;32m      3\u001b[0m \u001b[0mprint\u001b[0m\u001b[0;34m(\u001b[0m\u001b[0mtuple\u001b[0m\u001b[0;34m)\u001b[0m\u001b[0;34m\u001b[0m\u001b[0;34m\u001b[0m\u001b[0m\n",
            "\u001b[0;31mTypeError\u001b[0m: 'tuple' object does not support item assignment"
          ]
        }
      ]
    },
    {
      "cell_type": "markdown",
      "source": [
        "STRING\n",
        "\n"
      ],
      "metadata": {
        "id": "pA8egcC5icLm"
      }
    },
    {
      "cell_type": "code",
      "source": [
        "a = \"i love my india\"\n",
        "a[3]= 'africa'\n",
        "print(a)"
      ],
      "metadata": {
        "colab": {
          "base_uri": "https://localhost:8080/",
          "height": 176
        },
        "id": "yNZFo8Tpiikd",
        "outputId": "17d78cc0-3a53-410a-e9b4-902e4586e228"
      },
      "execution_count": null,
      "outputs": [
        {
          "output_type": "error",
          "ename": "TypeError",
          "evalue": "'str' object does not support item assignment",
          "traceback": [
            "\u001b[0;31m---------------------------------------------------------------------------\u001b[0m",
            "\u001b[0;31mTypeError\u001b[0m                                 Traceback (most recent call last)",
            "\u001b[0;32m<ipython-input-5-0735ac63be20>\u001b[0m in \u001b[0;36m<cell line: 2>\u001b[0;34m()\u001b[0m\n\u001b[1;32m      1\u001b[0m \u001b[0ma\u001b[0m \u001b[0;34m=\u001b[0m \u001b[0;34m\"i love my india\"\u001b[0m\u001b[0;34m\u001b[0m\u001b[0;34m\u001b[0m\u001b[0m\n\u001b[0;32m----> 2\u001b[0;31m \u001b[0ma\u001b[0m\u001b[0;34m[\u001b[0m\u001b[0;36m3\u001b[0m\u001b[0;34m]\u001b[0m\u001b[0;34m=\u001b[0m \u001b[0;34m'africa'\u001b[0m\u001b[0;34m\u001b[0m\u001b[0;34m\u001b[0m\u001b[0m\n\u001b[0m\u001b[1;32m      3\u001b[0m \u001b[0mprint\u001b[0m\u001b[0;34m(\u001b[0m\u001b[0ma\u001b[0m\u001b[0;34m)\u001b[0m\u001b[0;34m\u001b[0m\u001b[0;34m\u001b[0m\u001b[0m\n",
            "\u001b[0;31mTypeError\u001b[0m: 'str' object does not support item assignment"
          ]
        }
      ]
    },
    {
      "cell_type": "markdown",
      "source": [
        "INT"
      ],
      "metadata": {
        "id": "G6grue3sjLnG"
      }
    },
    {
      "cell_type": "code",
      "source": [
        "int = 10,2,3,4,5,6\n",
        "int[2]= 8\n",
        "print(int)\n"
      ],
      "metadata": {
        "colab": {
          "base_uri": "https://localhost:8080/",
          "height": 176
        },
        "id": "jsNBs1r8jSaH",
        "outputId": "b97580d6-c59b-4927-e3d7-b9f2e98264ad"
      },
      "execution_count": null,
      "outputs": [
        {
          "output_type": "error",
          "ename": "TypeError",
          "evalue": "'tuple' object does not support item assignment",
          "traceback": [
            "\u001b[0;31m---------------------------------------------------------------------------\u001b[0m",
            "\u001b[0;31mTypeError\u001b[0m                                 Traceback (most recent call last)",
            "\u001b[0;32m<ipython-input-7-280ee266550a>\u001b[0m in \u001b[0;36m<cell line: 2>\u001b[0;34m()\u001b[0m\n\u001b[1;32m      1\u001b[0m \u001b[0mint\u001b[0m \u001b[0;34m=\u001b[0m \u001b[0;36m10\u001b[0m\u001b[0;34m,\u001b[0m\u001b[0;36m2\u001b[0m\u001b[0;34m,\u001b[0m\u001b[0;36m3\u001b[0m\u001b[0;34m,\u001b[0m\u001b[0;36m4\u001b[0m\u001b[0;34m,\u001b[0m\u001b[0;36m5\u001b[0m\u001b[0;34m,\u001b[0m\u001b[0;36m6\u001b[0m\u001b[0;34m\u001b[0m\u001b[0;34m\u001b[0m\u001b[0m\n\u001b[0;32m----> 2\u001b[0;31m \u001b[0mint\u001b[0m\u001b[0;34m[\u001b[0m\u001b[0;36m2\u001b[0m\u001b[0;34m]\u001b[0m\u001b[0;34m=\u001b[0m \u001b[0;36m8\u001b[0m\u001b[0;34m\u001b[0m\u001b[0;34m\u001b[0m\u001b[0m\n\u001b[0m\u001b[1;32m      3\u001b[0m \u001b[0mprint\u001b[0m\u001b[0;34m(\u001b[0m\u001b[0mint\u001b[0m\u001b[0;34m)\u001b[0m\u001b[0;34m\u001b[0m\u001b[0;34m\u001b[0m\u001b[0m\n",
            "\u001b[0;31mTypeError\u001b[0m: 'tuple' object does not support item assignment"
          ]
        }
      ]
    },
    {
      "cell_type": "markdown",
      "source": [
        "Q4. discuss the different types of operators in python and provide examples of how they are used.\n"
      ],
      "metadata": {
        "id": "ux2xZ9X9jypC"
      }
    },
    {
      "cell_type": "markdown",
      "source": [
        "in python programming. operators in general are used to perform operations on values and variables.these are standard symbols used for logical and arithmetic operations.\n",
        "\n",
        "#Types of operators\n",
        "1 Arithmetic operators. (+,-,/,%,*)\n",
        "\n",
        "2 comparison operators.(<,<=,>,>=,==,!=)\n",
        "\n",
        "3 logicla operators.(and,or,not)\n",
        "\n",
        "4 bitwise operators.(&,<<,>>,-^)\n",
        "\n",
        "5.assignment operators.(=,+=,-=,*=,%)\n"
      ],
      "metadata": {
        "id": "VvLAEN75kNhW"
      }
    },
    {
      "cell_type": "code",
      "source": [
        "#1.Arithmetic operators\n",
        "a = 10\n",
        "b = 2\n",
        "print(a+b)\n",
        "print(a-b)\n",
        "print(a*b)\n",
        "print(a/b)"
      ],
      "metadata": {
        "colab": {
          "base_uri": "https://localhost:8080/"
        },
        "id": "IcE5LyeqkNEe",
        "outputId": "34b40d2a-b1cf-4602-865d-b049898b11c7"
      },
      "execution_count": null,
      "outputs": [
        {
          "output_type": "stream",
          "name": "stdout",
          "text": [
            "12\n",
            "8\n",
            "20\n",
            "5.0\n"
          ]
        }
      ]
    },
    {
      "cell_type": "code",
      "source": [
        "#2.comparison operators\n",
        "a = 10\n",
        "b = 2\n",
        "print(a<b)\n",
        "print(a<=b)\n",
        "print(a>b)\n",
        "print(a>=b)\n",
        "print(a==b)\n",
        "print(a!=b)"
      ],
      "metadata": {
        "colab": {
          "base_uri": "https://localhost:8080/"
        },
        "id": "42--c_mioKNc",
        "outputId": "5c78b0e9-b194-4bc3-93f1-e8403094c606"
      },
      "execution_count": null,
      "outputs": [
        {
          "output_type": "stream",
          "name": "stdout",
          "text": [
            "False\n",
            "False\n",
            "True\n",
            "True\n",
            "False\n",
            "True\n"
          ]
        }
      ]
    },
    {
      "cell_type": "code",
      "source": [
        "#3.logical operator\n",
        "a = 2\n",
        "b = 10\n",
        "c = 20\n",
        "print(a>b and a>c)\n",
        "print(a>b or a>c)\n",
        "print(not a>b)"
      ],
      "metadata": {
        "colab": {
          "base_uri": "https://localhost:8080/"
        },
        "id": "w4n3rFBgoeo0",
        "outputId": "c0afa806-2889-4833-a162-2ebe11538f66"
      },
      "execution_count": null,
      "outputs": [
        {
          "output_type": "stream",
          "name": "stdout",
          "text": [
            "False\n",
            "False\n",
            "True\n"
          ]
        }
      ]
    },
    {
      "cell_type": "code",
      "source": [
        "#4#bitwise operators\n",
        "a = 10\n",
        "b = 2\n",
        "print(a&b)\n",
        "print(a<<b)\n",
        "print(a>>b)\n",
        "print(a^b)"
      ],
      "metadata": {
        "colab": {
          "base_uri": "https://localhost:8080/"
        },
        "id": "152J_PLnpa5y",
        "outputId": "d936a210-7ab9-4eb0-918a-04056de173e7"
      },
      "execution_count": null,
      "outputs": [
        {
          "output_type": "stream",
          "name": "stdout",
          "text": [
            "2\n",
            "40\n",
            "2\n",
            "8\n"
          ]
        }
      ]
    },
    {
      "cell_type": "code",
      "source": [
        "#5assignment operators\n",
        "a = 10\n",
        "b = 2\n",
        "a+=b\n",
        "print(a)\n",
        "a-=b\n",
        "print(a)\n",
        "a*=b\n",
        "print(a)\n",
        "a/=b\n",
        "print(a)"
      ],
      "metadata": {
        "colab": {
          "base_uri": "https://localhost:8080/"
        },
        "id": "DoocqGkQptVS",
        "outputId": "287d94c5-a8de-4788-ae83-d3789fd7b396"
      },
      "execution_count": null,
      "outputs": [
        {
          "output_type": "stream",
          "name": "stdout",
          "text": [
            "12\n",
            "10\n",
            "20\n",
            "10.0\n"
          ]
        }
      ]
    },
    {
      "cell_type": "markdown",
      "source": [
        "Q5.explain the type casting in python with example.\n",
        "\n",
        "ans:-type casting is the method to convert the python variable datatype into a certain data type in order to perform the required operations by users.\n",
        "\n",
        "there can be two types of type casting in python:\n",
        "1. implicit type casting :-\n",
        "\n",
        " in this, method, python converts the datatype into another datatype automatically. users don'thave to involve in this process.\n",
        "\n",
        "\n"
      ],
      "metadata": {
        "id": "wc97Uxf4p8qn"
      }
    },
    {
      "cell_type": "code",
      "source": [
        "# python automatically converts\n",
        "# a to int\n",
        "a = 7\n",
        "print(type(a))\n"
      ],
      "metadata": {
        "colab": {
          "base_uri": "https://localhost:8080/"
        },
        "id": "wlQQZBaNsh8R",
        "outputId": "275083ac-2e3e-4a8e-94f5-6a86c9670137"
      },
      "execution_count": null,
      "outputs": [
        {
          "output_type": "stream",
          "name": "stdout",
          "text": [
            "<class 'int'>\n"
          ]
        }
      ]
    },
    {
      "cell_type": "markdown",
      "source": [
        "2.explicit type casting:-\n",
        "\n",
        "in this method, python needs user involvement to convert the variable data type into the required data type.\n",
        "\n"
      ],
      "metadata": {
        "id": "7SoO3nJNsxSH"
      }
    },
    {
      "cell_type": "markdown",
      "source": [],
      "metadata": {
        "id": "jMrAqE-EpZ29"
      }
    },
    {
      "cell_type": "code",
      "source": [
        "# first python automaticaly assume a = float\n",
        "a = 5.3\n",
        "print(type(a))\n",
        "# after we type cast a = str\n",
        "n = str(a)\n",
        "print(n)\n",
        "print(type(n))"
      ],
      "metadata": {
        "colab": {
          "base_uri": "https://localhost:8080/"
        },
        "id": "f2zPWHKjtkng",
        "outputId": "b7b298a2-257c-4ba1-bb75-46f5afd84e0f"
      },
      "execution_count": null,
      "outputs": [
        {
          "output_type": "stream",
          "name": "stdout",
          "text": [
            "<class 'float'>\n",
            "5.3\n",
            "<class 'str'>\n"
          ]
        }
      ]
    },
    {
      "cell_type": "markdown",
      "source": [
        "Q6.how do conditional statement work in python? illustrate with example.\n",
        "\n",
        "the condition can be any expression that evaluates to a boolean value (True or False). if the condition is true,the code bloack indented below the if statement will be executed . if the condition is false, the code bloack will be skipped.\n",
        "\n",
        "\n",
        "\n",
        "\n",
        "\n"
      ],
      "metadata": {
        "id": "AudjYtNFuWRQ"
      }
    },
    {
      "cell_type": "code",
      "source": [
        "num = 10\n",
        "if num > 8:\n",
        "\n",
        "    print(\"number is greater than 8\")\n",
        "else:\n",
        "    print(\"number is less than 8\")\n"
      ],
      "metadata": {
        "colab": {
          "base_uri": "https://localhost:8080/"
        },
        "id": "N3t_ZR6Vvgz8",
        "outputId": "37877410-077d-4399-f878-f796e6130847"
      },
      "execution_count": null,
      "outputs": [
        {
          "output_type": "stream",
          "name": "stdout",
          "text": [
            "number is greater than 8\n"
          ]
        }
      ]
    },
    {
      "cell_type": "markdown",
      "source": [
        "Q7.describe the different type of loops in python and their use cases with example.\n",
        "\n",
        "Types of loop:-\n",
        "\n",
        "1.for loop:- used for iterating over a sequence (such as a list, tuple, dictionary, set or string).it's a common choice for loops where the number of iterations is determined by the elements in the sequence.\n",
        "\n",
        "\n",
        "2.while loop:- repeats as long as a specified boolean condition is true. it's used when the number of iterations is not predetermined and needs to continue until a condition changes.\n",
        "\n",
        "3.nested loop:- in python program there are two types of loops which are for loop and while loop. using these loops we can create nested loops in python. nested loops mean loops inside a loop. for example, while loop inside the for loop, for loop indside the for loop.\n",
        "\n",
        "\n"
      ],
      "metadata": {
        "id": "GiLOp99WwwPe"
      }
    },
    {
      "cell_type": "code",
      "source": [
        "a = 200\n",
        "for i in range(20, 30):\n",
        "  print(i)\n"
      ],
      "metadata": {
        "colab": {
          "base_uri": "https://localhost:8080/"
        },
        "id": "fpGvuHOAyNKi",
        "outputId": "7a7551f1-5ef6-42bc-d699-6350e6dbf9c5"
      },
      "execution_count": null,
      "outputs": [
        {
          "output_type": "stream",
          "name": "stdout",
          "text": [
            "20\n",
            "21\n",
            "22\n",
            "23\n",
            "24\n",
            "25\n",
            "26\n",
            "27\n",
            "28\n",
            "29\n"
          ]
        }
      ]
    },
    {
      "cell_type": "markdown",
      "source": [
        "while loop\n"
      ],
      "metadata": {
        "id": "PqnSxuK_zVU2"
      }
    },
    {
      "cell_type": "code",
      "source": [
        "a = 30\n",
        "while a < 201:\n",
        "  print(a)\n",
        "  a += 5"
      ],
      "metadata": {
        "colab": {
          "base_uri": "https://localhost:8080/"
        },
        "id": "7tZY7qXJzb2S",
        "outputId": "1ef51099-c995-46d2-d34c-4f9d5e202b64"
      },
      "execution_count": null,
      "outputs": [
        {
          "output_type": "stream",
          "name": "stdout",
          "text": [
            "30\n",
            "35\n",
            "40\n",
            "45\n",
            "50\n",
            "55\n",
            "60\n",
            "65\n",
            "70\n",
            "75\n",
            "80\n",
            "85\n",
            "90\n",
            "95\n",
            "100\n",
            "105\n",
            "110\n",
            "115\n",
            "120\n",
            "125\n",
            "130\n",
            "135\n",
            "140\n",
            "145\n",
            "150\n",
            "155\n",
            "160\n",
            "165\n",
            "170\n",
            "175\n",
            "180\n",
            "185\n",
            "190\n",
            "195\n",
            "200\n"
          ]
        }
      ]
    },
    {
      "cell_type": "markdown",
      "source": [
        "nested loop\n"
      ],
      "metadata": {
        "id": "mnPti0Zlz-8O"
      }
    },
    {
      "cell_type": "code",
      "source": [
        "for i in range(1,5):\n",
        "    for j in range(1,11):\n",
        "        print(i, \"*\", j, \"=\", i*j)"
      ],
      "metadata": {
        "id": "dTMTOKSg0FSw",
        "colab": {
          "base_uri": "https://localhost:8080/"
        },
        "outputId": "793a359d-a9c0-4339-8934-03c27c2eae61"
      },
      "execution_count": null,
      "outputs": [
        {
          "output_type": "stream",
          "name": "stdout",
          "text": [
            "1 * 1 = 1\n",
            "1 * 2 = 2\n",
            "1 * 3 = 3\n",
            "1 * 4 = 4\n",
            "1 * 5 = 5\n",
            "1 * 6 = 6\n",
            "1 * 7 = 7\n",
            "1 * 8 = 8\n",
            "1 * 9 = 9\n",
            "1 * 10 = 10\n",
            "2 * 1 = 2\n",
            "2 * 2 = 4\n",
            "2 * 3 = 6\n",
            "2 * 4 = 8\n",
            "2 * 5 = 10\n",
            "2 * 6 = 12\n",
            "2 * 7 = 14\n",
            "2 * 8 = 16\n",
            "2 * 9 = 18\n",
            "2 * 10 = 20\n",
            "3 * 1 = 3\n",
            "3 * 2 = 6\n",
            "3 * 3 = 9\n",
            "3 * 4 = 12\n",
            "3 * 5 = 15\n",
            "3 * 6 = 18\n",
            "3 * 7 = 21\n",
            "3 * 8 = 24\n",
            "3 * 9 = 27\n",
            "3 * 10 = 30\n",
            "4 * 1 = 4\n",
            "4 * 2 = 8\n",
            "4 * 3 = 12\n",
            "4 * 4 = 16\n",
            "4 * 5 = 20\n",
            "4 * 6 = 24\n",
            "4 * 7 = 28\n",
            "4 * 8 = 32\n",
            "4 * 9 = 36\n",
            "4 * 10 = 40\n"
          ]
        }
      ]
    }
  ]
}